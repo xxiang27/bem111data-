{
  "nbformat": 4,
  "nbformat_minor": 0,
  "metadata": {
    "colab": {
      "name": "BEM111_HW2.ipynb",
      "provenance": [],
      "collapsed_sections": []
    },
    "kernelspec": {
      "name": "python3",
      "display_name": "Python 3"
    },
    "language_info": {
      "name": "python"
    }
  },
  "cells": [
    {
      "cell_type": "markdown",
      "source": [
        "# BEM 111 HW 2\n",
        "## Iris Xiang \n"
      ],
      "metadata": {
        "id": "UaR2IJJNX8zU"
      }
    },
    {
      "cell_type": "markdown",
      "source": [
        "### Problem 2 "
      ],
      "metadata": {
        "id": "Xr6X5Vx8YEf9"
      }
    },
    {
      "cell_type": "code",
      "source": [
        "import pandas as pd \n",
        "import numpy as np "
      ],
      "metadata": {
        "id": "3TX7EVR2YaaF"
      },
      "execution_count": 1,
      "outputs": []
    },
    {
      "cell_type": "code",
      "source": [
        "# import data \n",
        "\n",
        "df = pd.read_excel(\"https://raw.githubusercontent.com/xxiang27/bem111data-/main/ratio_data.xlsx\")"
      ],
      "metadata": {
        "id": "17SHNPFKYDXK"
      },
      "execution_count": 2,
      "outputs": []
    },
    {
      "cell_type": "code",
      "source": [
        "df.head()"
      ],
      "metadata": {
        "colab": {
          "base_uri": "https://localhost:8080/",
          "height": 357
        },
        "id": "XSZKi7WnYfT6",
        "outputId": "8d613c13-c436-42fa-fb26-fee1684f4f73"
      },
      "execution_count": 3,
      "outputs": [
        {
          "output_type": "execute_result",
          "data": {
            "text/html": [
              "\n",
              "  <div id=\"df-efa582dc-d132-4cb2-86bb-ab106ddab631\">\n",
              "    <div class=\"colab-df-container\">\n",
              "      <div>\n",
              "<style scoped>\n",
              "    .dataframe tbody tr th:only-of-type {\n",
              "        vertical-align: middle;\n",
              "    }\n",
              "\n",
              "    .dataframe tbody tr th {\n",
              "        vertical-align: top;\n",
              "    }\n",
              "\n",
              "    .dataframe thead th {\n",
              "        text-align: right;\n",
              "    }\n",
              "</style>\n",
              "<table border=\"1\" class=\"dataframe\">\n",
              "  <thead>\n",
              "    <tr style=\"text-align: right;\">\n",
              "      <th></th>\n",
              "      <th>Date</th>\n",
              "      <th>AAPL</th>\n",
              "      <th>AMZN</th>\n",
              "      <th>ED</th>\n",
              "      <th>F</th>\n",
              "      <th>JNJ</th>\n",
              "      <th>JPM</th>\n",
              "      <th>ORCL</th>\n",
              "      <th>TSLA</th>\n",
              "      <th>V</th>\n",
              "      <th>WMT</th>\n",
              "      <th>XOM</th>\n",
              "    </tr>\n",
              "  </thead>\n",
              "  <tbody>\n",
              "    <tr>\n",
              "      <th>0</th>\n",
              "      <td>2021-12-31</td>\n",
              "      <td>1.074229</td>\n",
              "      <td>0.950748</td>\n",
              "      <td>1.098918</td>\n",
              "      <td>1.082335</td>\n",
              "      <td>1.097095</td>\n",
              "      <td>0.996978</td>\n",
              "      <td>0.961098</td>\n",
              "      <td>0.923145</td>\n",
              "      <td>1.118388</td>\n",
              "      <td>1.033013</td>\n",
              "      <td>1.022560</td>\n",
              "    </tr>\n",
              "    <tr>\n",
              "      <th>1</th>\n",
              "      <td>2021-11-30</td>\n",
              "      <td>1.105082</td>\n",
              "      <td>1.039924</td>\n",
              "      <td>1.039940</td>\n",
              "      <td>1.129194</td>\n",
              "      <td>0.963601</td>\n",
              "      <td>0.934899</td>\n",
              "      <td>0.945799</td>\n",
              "      <td>1.027612</td>\n",
              "      <td>0.916613</td>\n",
              "      <td>0.941173</td>\n",
              "      <td>0.940658</td>\n",
              "    </tr>\n",
              "    <tr>\n",
              "      <th>2</th>\n",
              "      <td>2021-10-29</td>\n",
              "      <td>1.058657</td>\n",
              "      <td>1.026602</td>\n",
              "      <td>1.038711</td>\n",
              "      <td>1.206215</td>\n",
              "      <td>1.008545</td>\n",
              "      <td>1.044131</td>\n",
              "      <td>1.104944</td>\n",
              "      <td>1.436530</td>\n",
              "      <td>0.950707</td>\n",
              "      <td>1.072033</td>\n",
              "      <td>1.096056</td>\n",
              "    </tr>\n",
              "    <tr>\n",
              "      <th>3</th>\n",
              "      <td>2021-09-30</td>\n",
              "      <td>0.931963</td>\n",
              "      <td>0.946482</td>\n",
              "      <td>0.962094</td>\n",
              "      <td>1.086723</td>\n",
              "      <td>0.932825</td>\n",
              "      <td>1.023382</td>\n",
              "      <td>0.977561</td>\n",
              "      <td>1.054042</td>\n",
              "      <td>0.972283</td>\n",
              "      <td>0.941121</td>\n",
              "      <td>1.078870</td>\n",
              "    </tr>\n",
              "    <tr>\n",
              "      <th>4</th>\n",
              "      <td>2021-08-31</td>\n",
              "      <td>1.042489</td>\n",
              "      <td>1.043034</td>\n",
              "      <td>1.033005</td>\n",
              "      <td>0.934050</td>\n",
              "      <td>1.011375</td>\n",
              "      <td>1.053828</td>\n",
              "      <td>1.022837</td>\n",
              "      <td>1.070605</td>\n",
              "      <td>0.931094</td>\n",
              "      <td>1.042757</td>\n",
              "      <td>0.961355</td>\n",
              "    </tr>\n",
              "  </tbody>\n",
              "</table>\n",
              "</div>\n",
              "      <button class=\"colab-df-convert\" onclick=\"convertToInteractive('df-efa582dc-d132-4cb2-86bb-ab106ddab631')\"\n",
              "              title=\"Convert this dataframe to an interactive table.\"\n",
              "              style=\"display:none;\">\n",
              "        \n",
              "  <svg xmlns=\"http://www.w3.org/2000/svg\" height=\"24px\"viewBox=\"0 0 24 24\"\n",
              "       width=\"24px\">\n",
              "    <path d=\"M0 0h24v24H0V0z\" fill=\"none\"/>\n",
              "    <path d=\"M18.56 5.44l.94 2.06.94-2.06 2.06-.94-2.06-.94-.94-2.06-.94 2.06-2.06.94zm-11 1L8.5 8.5l.94-2.06 2.06-.94-2.06-.94L8.5 2.5l-.94 2.06-2.06.94zm10 10l.94 2.06.94-2.06 2.06-.94-2.06-.94-.94-2.06-.94 2.06-2.06.94z\"/><path d=\"M17.41 7.96l-1.37-1.37c-.4-.4-.92-.59-1.43-.59-.52 0-1.04.2-1.43.59L10.3 9.45l-7.72 7.72c-.78.78-.78 2.05 0 2.83L4 21.41c.39.39.9.59 1.41.59.51 0 1.02-.2 1.41-.59l7.78-7.78 2.81-2.81c.8-.78.8-2.07 0-2.86zM5.41 20L4 18.59l7.72-7.72 1.47 1.35L5.41 20z\"/>\n",
              "  </svg>\n",
              "      </button>\n",
              "      \n",
              "  <style>\n",
              "    .colab-df-container {\n",
              "      display:flex;\n",
              "      flex-wrap:wrap;\n",
              "      gap: 12px;\n",
              "    }\n",
              "\n",
              "    .colab-df-convert {\n",
              "      background-color: #E8F0FE;\n",
              "      border: none;\n",
              "      border-radius: 50%;\n",
              "      cursor: pointer;\n",
              "      display: none;\n",
              "      fill: #1967D2;\n",
              "      height: 32px;\n",
              "      padding: 0 0 0 0;\n",
              "      width: 32px;\n",
              "    }\n",
              "\n",
              "    .colab-df-convert:hover {\n",
              "      background-color: #E2EBFA;\n",
              "      box-shadow: 0px 1px 2px rgba(60, 64, 67, 0.3), 0px 1px 3px 1px rgba(60, 64, 67, 0.15);\n",
              "      fill: #174EA6;\n",
              "    }\n",
              "\n",
              "    [theme=dark] .colab-df-convert {\n",
              "      background-color: #3B4455;\n",
              "      fill: #D2E3FC;\n",
              "    }\n",
              "\n",
              "    [theme=dark] .colab-df-convert:hover {\n",
              "      background-color: #434B5C;\n",
              "      box-shadow: 0px 1px 3px 1px rgba(0, 0, 0, 0.15);\n",
              "      filter: drop-shadow(0px 1px 2px rgba(0, 0, 0, 0.3));\n",
              "      fill: #FFFFFF;\n",
              "    }\n",
              "  </style>\n",
              "\n",
              "      <script>\n",
              "        const buttonEl =\n",
              "          document.querySelector('#df-efa582dc-d132-4cb2-86bb-ab106ddab631 button.colab-df-convert');\n",
              "        buttonEl.style.display =\n",
              "          google.colab.kernel.accessAllowed ? 'block' : 'none';\n",
              "\n",
              "        async function convertToInteractive(key) {\n",
              "          const element = document.querySelector('#df-efa582dc-d132-4cb2-86bb-ab106ddab631');\n",
              "          const dataTable =\n",
              "            await google.colab.kernel.invokeFunction('convertToInteractive',\n",
              "                                                     [key], {});\n",
              "          if (!dataTable) return;\n",
              "\n",
              "          const docLinkHtml = 'Like what you see? Visit the ' +\n",
              "            '<a target=\"_blank\" href=https://colab.research.google.com/notebooks/data_table.ipynb>data table notebook</a>'\n",
              "            + ' to learn more about interactive tables.';\n",
              "          element.innerHTML = '';\n",
              "          dataTable['output_type'] = 'display_data';\n",
              "          await google.colab.output.renderOutput(dataTable, element);\n",
              "          const docLink = document.createElement('div');\n",
              "          docLink.innerHTML = docLinkHtml;\n",
              "          element.appendChild(docLink);\n",
              "        }\n",
              "      </script>\n",
              "    </div>\n",
              "  </div>\n",
              "  "
            ],
            "text/plain": [
              "        Date      AAPL      AMZN  ...         V       WMT       XOM\n",
              "0 2021-12-31  1.074229  0.950748  ...  1.118388  1.033013  1.022560\n",
              "1 2021-11-30  1.105082  1.039924  ...  0.916613  0.941173  0.940658\n",
              "2 2021-10-29  1.058657  1.026602  ...  0.950707  1.072033  1.096056\n",
              "3 2021-09-30  0.931963  0.946482  ...  0.972283  0.941121  1.078870\n",
              "4 2021-08-31  1.042489  1.043034  ...  0.931094  1.042757  0.961355\n",
              "\n",
              "[5 rows x 12 columns]"
            ]
          },
          "metadata": {},
          "execution_count": 3
        }
      ]
    },
    {
      "cell_type": "code",
      "source": [
        "# We now compute the Pukthuanthong-Roll SDF Volatility for each of the 10 month periods in the dataframe. \n",
        "# We know that we have 120 months worth of data\n",
        "import copy \n",
        "\n",
        "def compute_sdfs(df):\n",
        "  df_nodate = df.drop('Date',axis=1)\n",
        "  sdf_lst = []\n",
        "  # We stop i at 110 because we use i+10 to index our dataframe \n",
        "  for i in range(0,111,10):\n",
        "    # split dataframe into nonoverlapping 10 month periods\n",
        "    period = np.array(df_nodate.iloc[i:i+10])\n",
        "    # specify n unit vector \n",
        "    u = np.array([1]*11)\n",
        "    # calculate sdf \n",
        "    phi = 10*np.linalg.inv((period.dot(period.T))).dot(period).dot(u)\n",
        "    # calculate sdf using phi \n",
        "    sdf = np.sqrt((1/10)*phi.T.dot(phi) - np.average(phi)**2) * np.sqrt(12)\n",
        "    sdf_lst.append(sdf)\n",
        "  return sdf_lst\n",
        "\n",
        "# We also write a function to calculate sharpe ratios and take the largest one \n",
        "\n",
        "def compute_sharpe_ratios(df):\n",
        "  df_nodate = df.drop('Date',axis=1)\n",
        "  # We minus everything by 1 to get rate of return values\n",
        "  df_nodate = df_nodate - 1\n",
        "  sharpe_ratios = []\n",
        "  for i in range(0,111,10):\n",
        "    # split dataframe into nonoverlapping 10 month periods\n",
        "    period = df_nodate.iloc[i:i+10]\n",
        "    # calculate sharpe ratios \n",
        "    averages = period.mean(axis=0)\n",
        "    stdevs = period.std(axis=0)\n",
        "    ratios = averages.div(stdevs)\n",
        "    # take the maximum over the period and annualize \n",
        "    sharpe_ratio = max(ratios)*np.sqrt(12)\n",
        "    sharpe_ratios.append(sharpe_ratio)\n",
        "  return sharpe_ratios\n"
      ],
      "metadata": {
        "id": "Kp-fCBG5Z0Eo"
      },
      "execution_count": 4,
      "outputs": []
    },
    {
      "cell_type": "code",
      "source": [
        "sharpe_ratios = compute_sharpe_ratios(df)\n",
        "sdfs = compute_sdfs(df)\n"
      ],
      "metadata": {
        "id": "dDz4Tcr3-gdg"
      },
      "execution_count": 5,
      "outputs": []
    },
    {
      "cell_type": "code",
      "source": [
        "# We can look at our values for the calculated Pukthuanthong-Roll SDF Volatilities\n",
        "sdfs"
      ],
      "metadata": {
        "id": "v5e26yrfZ9Gh",
        "colab": {
          "base_uri": "https://localhost:8080/"
        },
        "outputId": "5d0cb4b1-522b-494f-cfa0-ab17a703fe1b"
      },
      "execution_count": 6,
      "outputs": [
        {
          "output_type": "execute_result",
          "data": {
            "text/plain": [
              "[4.260988394553534,\n",
              " 15.134061458572592,\n",
              " 7.904105806294716,\n",
              " 5.675626820526004,\n",
              " 10.13812700887985,\n",
              " 8.213182279313298,\n",
              " 29.704419277477452,\n",
              " 9.062077276436357,\n",
              " 28.325684699334758,\n",
              " 5.241462302445044,\n",
              " 10.973848573329816,\n",
              " 17.24151575011007]"
            ]
          },
          "metadata": {},
          "execution_count": 6
        }
      ]
    },
    {
      "cell_type": "code",
      "source": [
        "# We also look at our calculated maximum sharpe ratios \n",
        "sharpe_ratios"
      ],
      "metadata": {
        "colab": {
          "base_uri": "https://localhost:8080/"
        },
        "id": "lZdPfGSR-yDQ",
        "outputId": "f46998e7-3ef4-4a57-ff52-b1396a3d373b"
      },
      "execution_count": 7,
      "outputs": [
        {
          "output_type": "execute_result",
          "data": {
            "text/plain": [
              "[2.3753046713047015,\n",
              " 3.8922804963717277,\n",
              " 2.2181814732263136,\n",
              " 1.3176484861109352,\n",
              " 2.912301426779576,\n",
              " 4.783570174472008,\n",
              " 2.992230671278949,\n",
              " 1.205750147292142,\n",
              " 1.908825864206034,\n",
              " 2.3012546255548254,\n",
              " 2.984798927526658,\n",
              " 2.016862949675419]"
            ]
          },
          "metadata": {},
          "execution_count": 7
        }
      ]
    },
    {
      "cell_type": "code",
      "source": [
        "# By the Hansen-Jagannathan bound, every sharpe ratio should be less than or equal to its corresponding SDF volatility\n",
        "def compare(sdfs, sharpe_ratios):\n",
        "  for i in range(len(sharpe_ratios)):\n",
        "    if sharpe_ratios[i] <= sdfs[i]:\n",
        "      print(\"Yes\")\n",
        "    else:\n",
        "      print(\"No\")\n",
        "    \n",
        "compare(sdfs, sharpe_ratios)"
      ],
      "metadata": {
        "colab": {
          "base_uri": "https://localhost:8080/"
        },
        "id": "z-kK3nQe-41N",
        "outputId": "1c35a26d-9d52-4396-e924-0630be14f9ac"
      },
      "execution_count": 8,
      "outputs": [
        {
          "output_type": "stream",
          "name": "stdout",
          "text": [
            "Yes\n",
            "Yes\n",
            "Yes\n",
            "Yes\n",
            "Yes\n",
            "Yes\n",
            "Yes\n",
            "Yes\n",
            "Yes\n",
            "Yes\n",
            "Yes\n",
            "Yes\n"
          ]
        }
      ]
    },
    {
      "cell_type": "markdown",
      "source": [
        "Therefore, we see that it seems from this small sample that the Hansen-Jagannathan bound usually holds. "
      ],
      "metadata": {
        "id": "JpTS6hyaH0rV"
      }
    },
    {
      "cell_type": "markdown",
      "source": [
        "### Problem 3"
      ],
      "metadata": {
        "id": "kcUgIZ4TjOV2"
      }
    },
    {
      "cell_type": "code",
      "source": [
        "# We select the 60 first months of the given 120 months. \n",
        "df_recent60 = df.tail(60)\n",
        "\n",
        "# We average the relative returns for each row  \n",
        "df_recent60_mean = df_recent60.mean(axis = 1)"
      ],
      "metadata": {
        "colab": {
          "base_uri": "https://localhost:8080/"
        },
        "id": "o3i86hxJvDjG",
        "outputId": "e2af79dc-853e-439d-c589-294207a96fa8"
      },
      "execution_count": 9,
      "outputs": [
        {
          "output_type": "stream",
          "name": "stderr",
          "text": [
            "/usr/local/lib/python3.7/dist-packages/ipykernel_launcher.py:5: FutureWarning: DataFrame.mean and DataFrame.median with numeric_only=None will include datetime64 and datetime64tz columns in a future version.\n",
            "  \"\"\"\n"
          ]
        }
      ]
    },
    {
      "cell_type": "code",
      "source": [
        "# We can visualize our averaged relative returns \n",
        "import matplotlib.pyplot as plt\n",
        "plt.hist(df_recent60_mean, bins = 40)\n",
        "plt.xlabel('Returns')\n",
        "plt.ylabel(\"Frequency\")\n",
        "plt.grid(True)\n",
        "plt.show()"
      ],
      "metadata": {
        "colab": {
          "base_uri": "https://localhost:8080/",
          "height": 279
        },
        "id": "wJHorUnsgdjm",
        "outputId": "1019c155-8b75-4cc4-c1ba-69f2c29e90fd"
      },
      "execution_count": 10,
      "outputs": [
        {
          "output_type": "display_data",
          "data": {
            "image/png": "[encoded data removed]",
            "text/plain": [
              "<Figure size 432x288 with 1 Axes>"
            ]
          },
          "metadata": {
            "needs_background": "light"
          }
        }
      ]
    },
    {
      "cell_type": "code",
      "source": [
        "# We then sort the returns \n",
        "sorted_returns = df_recent60_mean.sort_values()\n",
        "sorted_returns.head()"
      ],
      "metadata": {
        "colab": {
          "base_uri": "https://localhost:8080/"
        },
        "id": "4_ZLWooygYIn",
        "outputId": "24293f3b-79f5-4b5d-d52b-d042c22f7b89"
      },
      "execution_count": 11,
      "outputs": [
        {
          "output_type": "execute_result",
          "data": {
            "text/plain": [
              "115    0.943637\n",
              "76     0.943777\n",
              "71     0.955391\n",
              "87     0.962464\n",
              "95     0.970247\n",
              "dtype: float64"
            ]
          },
          "metadata": {},
          "execution_count": 11
        }
      ]
    },
    {
      "cell_type": "code",
      "source": [
        "# We get our 95% VaR\n",
        "xth = int(np.floor(0.05 * 60))-1\n",
        "VaR = sorted_returns.iloc[xth]\n",
        "VaR"
      ],
      "metadata": {
        "colab": {
          "base_uri": "https://localhost:8080/"
        },
        "id": "eQvdW4hnhMFE",
        "outputId": "26b7918e-963f-41c9-cf92-6ff0a251ea87"
      },
      "execution_count": 12,
      "outputs": [
        {
          "output_type": "execute_result",
          "data": {
            "text/plain": [
              "0.9553913547556053"
            ]
          },
          "metadata": {},
          "execution_count": 12
        }
      ]
    },
    {
      "cell_type": "code",
      "source": [
        "# We now take the most recent 60 months and see how well our VaR holds up. \n",
        "df_holdout = df.head(60)\n",
        "df_holdout_mean = df_holdout.mean(axis = 1)\n"
      ],
      "metadata": {
        "colab": {
          "base_uri": "https://localhost:8080/"
        },
        "id": "71SXfeEwZ3t5",
        "outputId": "94157918-3339-4bf3-dfa7-d55e1d851262"
      },
      "execution_count": 13,
      "outputs": [
        {
          "output_type": "stream",
          "name": "stderr",
          "text": [
            "/usr/local/lib/python3.7/dist-packages/ipykernel_launcher.py:3: FutureWarning: DataFrame.mean and DataFrame.median with numeric_only=None will include datetime64 and datetime64tz columns in a future version.\n",
            "  This is separate from the ipykernel package so we can avoid doing imports until\n"
          ]
        }
      ]
    },
    {
      "cell_type": "code",
      "source": [
        "# We visualize our returns again just to see the differences between the previous and the holdout sample \n",
        "plt.hist(df_holdout_mean, bins = 40)\n",
        "plt.xlabel('Returns')\n",
        "plt.ylabel(\"Frequency\")\n",
        "plt.grid(True)\n",
        "plt.show()"
      ],
      "metadata": {
        "colab": {
          "base_uri": "https://localhost:8080/",
          "height": 279
        },
        "id": "D6fjjx1BiQf5",
        "outputId": "81e4b089-2cd4-4f69-ce44-6ba72b44a7fc"
      },
      "execution_count": 14,
      "outputs": [
        {
          "output_type": "display_data",
          "data": {
            "image/png": "[encoded data removed]",
            "text/plain": [
              "<Figure size 432x288 with 1 Axes>"
            ]
          },
          "metadata": {
            "needs_background": "light"
          }
        }
      ]
    },
    {
      "cell_type": "code",
      "source": [
        "# We can calculate our exceedance count \n",
        "exceedances = df_holdout_mean[df_holdout_mean < VaR]\n",
        "exceedances"
      ],
      "metadata": {
        "colab": {
          "base_uri": "https://localhost:8080/"
        },
        "id": "tU9eKJU2ihOS",
        "outputId": "735c1d0b-6021-4abf-9afb-511f389172cb"
      },
      "execution_count": 15,
      "outputs": [
        {
          "output_type": "execute_result",
          "data": {
            "text/plain": [
              "21    0.895028\n",
              "22    0.900816\n",
              "31    0.920264\n",
              "36    0.901489\n",
              "dtype: float64"
            ]
          },
          "metadata": {},
          "execution_count": 15
        }
      ]
    },
    {
      "cell_type": "code",
      "source": [
        "exceedance_count = len(exceedances)\n",
        "exceedance_count"
      ],
      "metadata": {
        "colab": {
          "base_uri": "https://localhost:8080/"
        },
        "id": "xQ927hRMc0H2",
        "outputId": "797f2e7a-aa8e-4288-8fe0-1aecfbad75f7"
      },
      "execution_count": 16,
      "outputs": [
        {
          "output_type": "execute_result",
          "data": {
            "text/plain": [
              "4"
            ]
          },
          "metadata": {},
          "execution_count": 16
        }
      ]
    },
    {
      "cell_type": "code",
      "source": [
        "exceedance_percentage = exceedance_count/60*100\n",
        "exceedance_percentage"
      ],
      "metadata": {
        "colab": {
          "base_uri": "https://localhost:8080/"
        },
        "id": "DL-lnASlc4BA",
        "outputId": "922452c0-75a0-42f5-dba8-16bf52d0aa52"
      },
      "execution_count": 17,
      "outputs": [
        {
          "output_type": "execute_result",
          "data": {
            "text/plain": [
              "6.666666666666667"
            ]
          },
          "metadata": {},
          "execution_count": 17
        }
      ]
    },
    {
      "cell_type": "markdown",
      "source": [
        "We see that 4 out of our 60 observations were losses that exceeded our 95% VaR, which equates to about 6.67%. Therefore, a loss greater than our 95% VaR happened 6.67% of the time on our test set, as opposed to less than 5% of the time. So our 95% VaR did not hold. However, it still did well considering our small sample size and since 6.67% is decently close to 5%. "
      ],
      "metadata": {
        "id": "sTc-7-oldVLM"
      }
    }
  ]
}